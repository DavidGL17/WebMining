{
 "cells": [
  {
   "cell_type": "code",
   "execution_count": 17,
   "metadata": {},
   "outputs": [
    {
     "data": {
      "text/plain": [
       "0                                         NaN\n",
       "1                                         NaN\n",
       "2                                         NaN\n",
       "3                                         NaN\n",
       "4                                         NaN\n",
       "5                                         NaN\n",
       "6                                         NaN\n",
       "7                                         NaN\n",
       "8                                         NaN\n",
       "9                                         NaN\n",
       "10    en:e296,en:e330,en:e552,en:e950,en:e955\n",
       "11                                        NaN\n",
       "12                                        NaN\n",
       "13                                        NaN\n",
       "14                                        NaN\n",
       "15                                        NaN\n",
       "16                                        NaN\n",
       "17                                        NaN\n",
       "18                                        NaN\n",
       "19                                        NaN\n",
       "20                                        NaN\n",
       "21                                        NaN\n",
       "22                                        NaN\n",
       "23                                        NaN\n",
       "24                                        NaN\n",
       "Name: additives_tags, dtype: object"
      ]
     },
     "execution_count": 17,
     "metadata": {},
     "output_type": "execute_result"
    }
   ],
   "source": [
    "# open the csv file containing openfoodfacts data, and print the first 5 lines. Since the file is too big, don'te read it all at once, but only the first 5 lines.\n",
    "import pandas as pd\n",
    "df = pd.read_csv('en.openfoodfacts.org.products.csv', sep='\\t', nrows=25)\n",
    "df.head()\n",
    "# create an array with the columns names\n",
    "columns = df.columns\n",
    "\n",
    "# print the additives column\n",
    "df['additives']"
   ]
  }
 ],
 "metadata": {
  "kernelspec": {
   "display_name": "Python 3",
   "language": "python",
   "name": "python3"
  },
  "language_info": {
   "codemirror_mode": {
    "name": "ipython",
    "version": 3
   },
   "file_extension": ".py",
   "mimetype": "text/x-python",
   "name": "python",
   "nbconvert_exporter": "python",
   "pygments_lexer": "ipython3",
   "version": "3.10.6"
  },
  "orig_nbformat": 4
 },
 "nbformat": 4,
 "nbformat_minor": 2
}
