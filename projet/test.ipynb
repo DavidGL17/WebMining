{
 "cells": [
  {
   "cell_type": "code",
   "execution_count": 7,
   "metadata": {},
   "outputs": [],
   "source": [
    "# open the csv file containing openfoodfacts data, and print the first 5 lines. Since the file is too big, don'te read it all at once, but only the first 5 lines.\n",
    "import pandas as pd\n",
    "import json\n",
    "df = pd.read_csv('en.openfoodfacts.org.products.csv', sep='\\t', nrows=50)\n",
    "df.head()\n",
    "# create an array with the columns names\n",
    "columns = df.columns\n",
    "\n",
    "# save columns in a json file\n",
    "with open('columns.json', 'w') as f:\n",
    "    json.dump(columns.tolist(), f)"
   ]
  },
  {
   "cell_type": "code",
   "execution_count": 13,
   "metadata": {},
   "outputs": [
    {
     "name": "stdout",
     "output_type": "stream",
     "text": [
      "0                                                   NaN\n",
      "1                                                   NaN\n",
      "2                                                   NaN\n",
      "3                                                   NaN\n",
      "4                                                   NaN\n",
      "5                                                   NaN\n",
      "6                                                   NaN\n",
      "7                                                   NaN\n",
      "8                                                   NaN\n",
      "9                                                   NaN\n",
      "10    E296 - Malic acid,E330 - Citric acid,E552 - Ca...\n",
      "11                                                  NaN\n",
      "12                                                  NaN\n",
      "13                                                  NaN\n",
      "14                                                  NaN\n",
      "15                                                  NaN\n",
      "16                                                  NaN\n",
      "17                                                  NaN\n",
      "18                                                  NaN\n",
      "19                                                  NaN\n",
      "20                                                  NaN\n",
      "21                                                  NaN\n",
      "22                                                  NaN\n",
      "23                                                  NaN\n",
      "24                                                  NaN\n",
      "25                                                  NaN\n",
      "26                                                  NaN\n",
      "27                                                  NaN\n",
      "28                                                  NaN\n",
      "29                                                  NaN\n",
      "30                                                  NaN\n",
      "31    E150 - Caramel,E160a - Carotene,E202 - Potassi...\n",
      "32                                                  NaN\n",
      "33                                                  NaN\n",
      "34                                                  NaN\n",
      "35                                                  NaN\n",
      "36                                                  NaN\n",
      "37                                                  NaN\n",
      "38                                                  NaN\n",
      "39                                          E406 - Agar\n",
      "40                                                  NaN\n",
      "41                                                  NaN\n",
      "42                                                  NaN\n",
      "43                                                  NaN\n",
      "44                                                  NaN\n",
      "45                                                  NaN\n",
      "46                                                  NaN\n",
      "47                                                  NaN\n",
      "48                                                  NaN\n",
      "49                                                  NaN\n",
      "Name: additives_en, dtype: object\n"
     ]
    }
   ],
   "source": [
    "print(df['additives_en'])"
   ]
  }
 ],
 "metadata": {
  "kernelspec": {
   "display_name": "Python 3",
   "language": "python",
   "name": "python3"
  },
  "language_info": {
   "codemirror_mode": {
    "name": "ipython",
    "version": 3
   },
   "file_extension": ".py",
   "mimetype": "text/x-python",
   "name": "python",
   "nbconvert_exporter": "python",
   "pygments_lexer": "ipython3",
   "version": "3.8.10"
  },
  "orig_nbformat": 4
 },
 "nbformat": 4,
 "nbformat_minor": 2
}
